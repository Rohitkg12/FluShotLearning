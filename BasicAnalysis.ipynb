{
 "cells": [
  {
   "cell_type": "markdown",
   "metadata": {},
   "source": [
    "# Flu Shot Learning: Predict H1N1 and Seasonal Flu Vaccines"
   ]
  },
  {
   "cell_type": "markdown",
   "metadata": {},
   "source": [
    "## Imports"
   ]
  },
  {
   "cell_type": "code",
   "execution_count": null,
   "metadata": {},
   "outputs": [],
   "source": [
    "import numpy as np # linear algebra\n",
    "import pandas as pd # data processing\n",
    "import seaborn as sns #for data visualization\n",
    "import matplotlib.pyplot as plt  #for data visualization\n"
   ]
  },
  {
   "cell_type": "code",
   "execution_count": 77,
   "metadata": {},
   "outputs": [],
   "source": [
    "train_features = pd.read_csv(\"data/training_set_features.csv\")\n",
    "train_labels = pd.read_csv(\"data/training_set_labels.csv\")\n",
    "test_features = pd.read_csv(\"data/test_set_features.csv\")"
   ]
  },
  {
   "cell_type": "code",
   "execution_count": 78,
   "metadata": {},
   "outputs": [],
   "source": [
    "def tableDetails(df):\n",
    "    print(\"Table Details\")\n",
    "    print(\"\\nTable Shape\" ,df.shape, sep='\\n')\n",
    "    print(\"\\nTop five rows\" ,df.head(), sep='\\n')    \n",
    "    \n",
    "def columnDetails(df):\n",
    "    print(df.info())\n",
    "    print(df.describe())\n",
    "    columns = train_features.columns.tolist()\n",
    "    col_sums = (train_features.isnull().sum()).to_list()\n",
    "    col_per = (train_features.isnull().mean().round(5)*100).to_list()\n",
    "    nullDf = pd.DataFrame(\n",
    "        {'cols': columns,\n",
    "         'nullentries': col_sums,\n",
    "         'nullpercentage': col_per\n",
    "        })\n",
    "    print(nullDf)\n",
    "\n",
    "def columnAnalysis(df,colarr):    \n",
    "    print(df.columns)"
   ]
  },
  {
   "cell_type": "code",
   "execution_count": 80,
   "metadata": {},
   "outputs": [
    {
     "name": "stdout",
     "output_type": "stream",
     "text": [
      "Table Details\n",
      "\n",
      "Table Shape\n",
      "(26707, 36)\n",
      "\n",
      "Top five rows\n",
      "   respondent_id  h1n1_concern  h1n1_knowledge  behavioral_antiviral_meds  \\\n",
      "0              0           1.0             0.0                        0.0   \n",
      "1              1           3.0             2.0                        0.0   \n",
      "2              2           1.0             1.0                        0.0   \n",
      "3              3           1.0             1.0                        0.0   \n",
      "4              4           2.0             1.0                        0.0   \n",
      "\n",
      "   behavioral_avoidance  behavioral_face_mask  behavioral_wash_hands  \\\n",
      "0                   0.0                   0.0                    0.0   \n",
      "1                   1.0                   0.0                    1.0   \n",
      "2                   1.0                   0.0                    0.0   \n",
      "3                   1.0                   0.0                    1.0   \n",
      "4                   1.0                   0.0                    1.0   \n",
      "\n",
      "   behavioral_large_gatherings  behavioral_outside_home  \\\n",
      "0                          0.0                      1.0   \n",
      "1                          0.0                      1.0   \n",
      "2                          0.0                      0.0   \n",
      "3                          1.0                      0.0   \n",
      "4                          1.0                      0.0   \n",
      "\n",
      "   behavioral_touch_face  ...             income_poverty  marital_status  \\\n",
      "0                    1.0  ...              Below Poverty     Not Married   \n",
      "1                    1.0  ...              Below Poverty     Not Married   \n",
      "2                    0.0  ...  <= $75,000, Above Poverty     Not Married   \n",
      "3                    0.0  ...              Below Poverty     Not Married   \n",
      "4                    1.0  ...  <= $75,000, Above Poverty         Married   \n",
      "\n",
      "   rent_or_own   employment_status  hhs_geo_region                census_msa  \\\n",
      "0          Own  Not in Labor Force        oxchjgsf                   Non-MSA   \n",
      "1         Rent            Employed        bhuqouqj  MSA, Not Principle  City   \n",
      "2          Own            Employed        qufhixun  MSA, Not Principle  City   \n",
      "3         Rent  Not in Labor Force        lrircsnp       MSA, Principle City   \n",
      "4          Own            Employed        qufhixun  MSA, Not Principle  City   \n",
      "\n",
      "   household_adults  household_children  employment_industry  \\\n",
      "0               0.0                 0.0                  NaN   \n",
      "1               0.0                 0.0             pxcmvdjn   \n",
      "2               2.0                 0.0             rucpziij   \n",
      "3               0.0                 0.0                  NaN   \n",
      "4               1.0                 0.0             wxleyezf   \n",
      "\n",
      "   employment_occupation  \n",
      "0                    NaN  \n",
      "1               xgwztkwe  \n",
      "2               xtkaffoo  \n",
      "3                    NaN  \n",
      "4               emcorrxb  \n",
      "\n",
      "[5 rows x 36 columns]\n"
     ]
    }
   ],
   "source": [
    "tableDetails(train_features)"
   ]
  },
  {
   "cell_type": "code",
   "execution_count": 81,
   "metadata": {},
   "outputs": [
    {
     "name": "stdout",
     "output_type": "stream",
     "text": [
      "Table Details\n",
      "\n",
      "Table Shape\n",
      "(26707, 3)\n",
      "\n",
      "Top five rows\n",
      "   respondent_id  h1n1_vaccine  seasonal_vaccine\n",
      "0              0             0                 0\n",
      "1              1             0                 1\n",
      "2              2             0                 0\n",
      "3              3             0                 1\n",
      "4              4             0                 0\n"
     ]
    }
   ],
   "source": [
    "tableDetails(train_labels)"
   ]
  },
  {
   "cell_type": "code",
   "execution_count": 82,
   "metadata": {},
   "outputs": [
    {
     "name": "stdout",
     "output_type": "stream",
     "text": [
      "Table Details\n",
      "\n",
      "Table Shape\n",
      "(26708, 36)\n",
      "\n",
      "Top five rows\n",
      "   respondent_id  h1n1_concern  h1n1_knowledge  behavioral_antiviral_meds  \\\n",
      "0          26707           2.0             2.0                        0.0   \n",
      "1          26708           1.0             1.0                        0.0   \n",
      "2          26709           2.0             2.0                        0.0   \n",
      "3          26710           1.0             1.0                        0.0   \n",
      "4          26711           3.0             1.0                        1.0   \n",
      "\n",
      "   behavioral_avoidance  behavioral_face_mask  behavioral_wash_hands  \\\n",
      "0                   1.0                   0.0                    1.0   \n",
      "1                   0.0                   0.0                    0.0   \n",
      "2                   0.0                   1.0                    1.0   \n",
      "3                   0.0                   0.0                    0.0   \n",
      "4                   1.0                   0.0                    1.0   \n",
      "\n",
      "   behavioral_large_gatherings  behavioral_outside_home  \\\n",
      "0                          1.0                      0.0   \n",
      "1                          0.0                      0.0   \n",
      "2                          1.0                      1.0   \n",
      "3                          0.0                      0.0   \n",
      "4                          1.0                      1.0   \n",
      "\n",
      "   behavioral_touch_face  ...             income_poverty  marital_status  \\\n",
      "0                    1.0  ...                  > $75,000     Not Married   \n",
      "1                    0.0  ...              Below Poverty     Not Married   \n",
      "2                    1.0  ...                  > $75,000         Married   \n",
      "3                    0.0  ...  <= $75,000, Above Poverty         Married   \n",
      "4                    1.0  ...  <= $75,000, Above Poverty     Not Married   \n",
      "\n",
      "   rent_or_own   employment_status  hhs_geo_region                census_msa  \\\n",
      "0         Rent            Employed        mlyzmhmf  MSA, Not Principle  City   \n",
      "1         Rent            Employed        bhuqouqj                   Non-MSA   \n",
      "2          Own            Employed        lrircsnp                   Non-MSA   \n",
      "3          Own  Not in Labor Force        lrircsnp  MSA, Not Principle  City   \n",
      "4          Own            Employed        lzgpxyit                   Non-MSA   \n",
      "\n",
      "   household_adults  household_children  employment_industry  \\\n",
      "0               1.0                 0.0             atmlpfrs   \n",
      "1               3.0                 0.0             atmlpfrs   \n",
      "2               1.0                 0.0             nduyfdeo   \n",
      "3               1.0                 0.0                  NaN   \n",
      "4               0.0                 1.0             fcxhlnwr   \n",
      "\n",
      "   employment_occupation  \n",
      "0               hfxkjkmi  \n",
      "1               xqwwgdyp  \n",
      "2               pvmttkik  \n",
      "3                    NaN  \n",
      "4               mxkfnird  \n",
      "\n",
      "[5 rows x 36 columns]\n"
     ]
    }
   ],
   "source": [
    "tableDetails(test_features)"
   ]
  },
  {
   "cell_type": "code",
   "execution_count": 71,
   "metadata": {},
   "outputs": [
    {
     "name": "stdout",
     "output_type": "stream",
     "text": [
      "<class 'pandas.core.frame.DataFrame'>\n",
      "RangeIndex: 26707 entries, 0 to 26706\n",
      "Data columns (total 36 columns):\n",
      "respondent_id                  26707 non-null int64\n",
      "h1n1_concern                   26615 non-null float64\n",
      "h1n1_knowledge                 26591 non-null float64\n",
      "behavioral_antiviral_meds      26636 non-null float64\n",
      "behavioral_avoidance           26499 non-null float64\n",
      "behavioral_face_mask           26688 non-null float64\n",
      "behavioral_wash_hands          26665 non-null float64\n",
      "behavioral_large_gatherings    26620 non-null float64\n",
      "behavioral_outside_home        26625 non-null float64\n",
      "behavioral_touch_face          26579 non-null float64\n",
      "doctor_recc_h1n1               24547 non-null float64\n",
      "doctor_recc_seasonal           24547 non-null float64\n",
      "chronic_med_condition          25736 non-null float64\n",
      "child_under_6_months           25887 non-null float64\n",
      "health_worker                  25903 non-null float64\n",
      "health_insurance               14433 non-null float64\n",
      "opinion_h1n1_vacc_effective    26316 non-null float64\n",
      "opinion_h1n1_risk              26319 non-null float64\n",
      "opinion_h1n1_sick_from_vacc    26312 non-null float64\n",
      "opinion_seas_vacc_effective    26245 non-null float64\n",
      "opinion_seas_risk              26193 non-null float64\n",
      "opinion_seas_sick_from_vacc    26170 non-null float64\n",
      "age_group                      26707 non-null object\n",
      "education                      25300 non-null object\n",
      "race                           26707 non-null object\n",
      "sex                            26707 non-null object\n",
      "income_poverty                 22284 non-null object\n",
      "marital_status                 25299 non-null object\n",
      "rent_or_own                    24665 non-null object\n",
      "employment_status              25244 non-null object\n",
      "hhs_geo_region                 26707 non-null object\n",
      "census_msa                     26707 non-null object\n",
      "household_adults               26458 non-null float64\n",
      "household_children             26458 non-null float64\n",
      "employment_industry            13377 non-null object\n",
      "employment_occupation          13237 non-null object\n",
      "dtypes: float64(23), int64(1), object(12)\n",
      "memory usage: 7.3+ MB\n",
      "None\n",
      "       respondent_id  h1n1_concern  h1n1_knowledge  behavioral_antiviral_meds  \\\n",
      "count   26707.000000  26615.000000    26591.000000               26636.000000   \n",
      "mean    13353.000000      1.618486        1.262532                   0.048844   \n",
      "std      7709.791156      0.910311        0.618149                   0.215545   \n",
      "min         0.000000      0.000000        0.000000                   0.000000   \n",
      "25%      6676.500000      1.000000        1.000000                   0.000000   \n",
      "50%     13353.000000      2.000000        1.000000                   0.000000   \n",
      "75%     20029.500000      2.000000        2.000000                   0.000000   \n",
      "max     26706.000000      3.000000        2.000000                   1.000000   \n",
      "\n",
      "       behavioral_avoidance  behavioral_face_mask  behavioral_wash_hands  \\\n",
      "count          26499.000000          26688.000000           26665.000000   \n",
      "mean               0.725612              0.068982               0.825614   \n",
      "std                0.446214              0.253429               0.379448   \n",
      "min                0.000000              0.000000               0.000000   \n",
      "25%                0.000000              0.000000               1.000000   \n",
      "50%                1.000000              0.000000               1.000000   \n",
      "75%                1.000000              0.000000               1.000000   \n",
      "max                1.000000              1.000000               1.000000   \n",
      "\n",
      "       behavioral_large_gatherings  behavioral_outside_home  \\\n",
      "count                  26620.00000             26625.000000   \n",
      "mean                       0.35864                 0.337315   \n",
      "std                        0.47961                 0.472802   \n",
      "min                        0.00000                 0.000000   \n",
      "25%                        0.00000                 0.000000   \n",
      "50%                        0.00000                 0.000000   \n",
      "75%                        1.00000                 1.000000   \n",
      "max                        1.00000                 1.000000   \n",
      "\n",
      "       behavioral_touch_face  ...  health_worker  health_insurance  \\\n",
      "count           26579.000000  ...   25903.000000       14433.00000   \n",
      "mean                0.677264  ...       0.111918           0.87972   \n",
      "std                 0.467531  ...       0.315271           0.32530   \n",
      "min                 0.000000  ...       0.000000           0.00000   \n",
      "25%                 0.000000  ...       0.000000           1.00000   \n",
      "50%                 1.000000  ...       0.000000           1.00000   \n",
      "75%                 1.000000  ...       0.000000           1.00000   \n",
      "max                 1.000000  ...       1.000000           1.00000   \n",
      "\n",
      "       opinion_h1n1_vacc_effective  opinion_h1n1_risk  \\\n",
      "count                 26316.000000       26319.000000   \n",
      "mean                      3.850623           2.342566   \n",
      "std                       1.007436           1.285539   \n",
      "min                       1.000000           1.000000   \n",
      "25%                       3.000000           1.000000   \n",
      "50%                       4.000000           2.000000   \n",
      "75%                       5.000000           4.000000   \n",
      "max                       5.000000           5.000000   \n",
      "\n",
      "       opinion_h1n1_sick_from_vacc  opinion_seas_vacc_effective  \\\n",
      "count                 26312.000000                 26245.000000   \n",
      "mean                      2.357670                     4.025986   \n",
      "std                       1.362766                     1.086565   \n",
      "min                       1.000000                     1.000000   \n",
      "25%                       1.000000                     4.000000   \n",
      "50%                       2.000000                     4.000000   \n",
      "75%                       4.000000                     5.000000   \n",
      "max                       5.000000                     5.000000   \n",
      "\n",
      "       opinion_seas_risk  opinion_seas_sick_from_vacc  household_adults  \\\n",
      "count       26193.000000                 26170.000000      26458.000000   \n",
      "mean            2.719162                     2.118112          0.886499   \n",
      "std             1.385055                     1.332950          0.753422   \n",
      "min             1.000000                     1.000000          0.000000   \n",
      "25%             2.000000                     1.000000          0.000000   \n",
      "50%             2.000000                     2.000000          1.000000   \n",
      "75%             4.000000                     4.000000          1.000000   \n",
      "max             5.000000                     5.000000          3.000000   \n",
      "\n",
      "       household_children  \n",
      "count        26458.000000  \n",
      "mean             0.534583  \n",
      "std              0.928173  \n",
      "min              0.000000  \n",
      "25%              0.000000  \n",
      "50%              0.000000  \n",
      "75%              1.000000  \n",
      "max              3.000000  \n",
      "\n",
      "[8 rows x 24 columns]\n",
      "                           cols  nullentries  nullpercentage\n",
      "0                 respondent_id            0           0.000\n",
      "1                  h1n1_concern           92           0.344\n",
      "2                h1n1_knowledge          116           0.434\n",
      "3     behavioral_antiviral_meds           71           0.266\n",
      "4          behavioral_avoidance          208           0.779\n",
      "5          behavioral_face_mask           19           0.071\n",
      "6         behavioral_wash_hands           42           0.157\n",
      "7   behavioral_large_gatherings           87           0.326\n",
      "8       behavioral_outside_home           82           0.307\n",
      "9         behavioral_touch_face          128           0.479\n",
      "10             doctor_recc_h1n1         2160           8.088\n",
      "11         doctor_recc_seasonal         2160           8.088\n",
      "12        chronic_med_condition          971           3.636\n",
      "13         child_under_6_months          820           3.070\n",
      "14                health_worker          804           3.010\n",
      "15             health_insurance        12274          45.958\n",
      "16  opinion_h1n1_vacc_effective          391           1.464\n",
      "17            opinion_h1n1_risk          388           1.453\n",
      "18  opinion_h1n1_sick_from_vacc          395           1.479\n",
      "19  opinion_seas_vacc_effective          462           1.730\n",
      "20            opinion_seas_risk          514           1.925\n",
      "21  opinion_seas_sick_from_vacc          537           2.011\n",
      "22                    age_group            0           0.000\n",
      "23                    education         1407           5.268\n",
      "24                         race            0           0.000\n",
      "25                          sex            0           0.000\n",
      "26               income_poverty         4423          16.561\n",
      "27               marital_status         1408           5.272\n",
      "28                  rent_or_own         2042           7.646\n",
      "29            employment_status         1463           5.478\n",
      "30               hhs_geo_region            0           0.000\n",
      "31                   census_msa            0           0.000\n",
      "32             household_adults          249           0.932\n",
      "33           household_children          249           0.932\n",
      "34          employment_industry        13330          49.912\n",
      "35        employment_occupation        13470          50.436\n"
     ]
    }
   ],
   "source": [
    "columnDetails(train_features)"
   ]
  },
  {
   "cell_type": "code",
   "execution_count": 68,
   "metadata": {},
   "outputs": [],
   "source": []
  },
  {
   "cell_type": "code",
   "execution_count": null,
   "metadata": {},
   "outputs": [],
   "source": []
  },
  {
   "cell_type": "code",
   "execution_count": null,
   "metadata": {},
   "outputs": [],
   "source": []
  },
  {
   "cell_type": "code",
   "execution_count": null,
   "metadata": {},
   "outputs": [],
   "source": []
  },
  {
   "cell_type": "markdown",
   "metadata": {},
   "source": [
    "## Data Analysis "
   ]
  },
  {
   "cell_type": "code",
   "execution_count": null,
   "metadata": {},
   "outputs": [],
   "source": []
  },
  {
   "cell_type": "markdown",
   "metadata": {},
   "source": [
    "## Data Preprocessing "
   ]
  },
  {
   "cell_type": "code",
   "execution_count": null,
   "metadata": {},
   "outputs": [],
   "source": []
  },
  {
   "cell_type": "markdown",
   "metadata": {},
   "source": [
    "## Data Modeling"
   ]
  },
  {
   "cell_type": "code",
   "execution_count": null,
   "metadata": {},
   "outputs": [],
   "source": []
  },
  {
   "cell_type": "markdown",
   "metadata": {},
   "source": [
    "## Data Hypertuning"
   ]
  },
  {
   "cell_type": "code",
   "execution_count": null,
   "metadata": {},
   "outputs": [],
   "source": []
  },
  {
   "cell_type": "markdown",
   "metadata": {},
   "source": [
    "## Validation Prediction"
   ]
  },
  {
   "cell_type": "code",
   "execution_count": null,
   "metadata": {},
   "outputs": [],
   "source": []
  },
  {
   "cell_type": "markdown",
   "metadata": {},
   "source": [
    "## Test Prediction"
   ]
  },
  {
   "cell_type": "code",
   "execution_count": null,
   "metadata": {},
   "outputs": [],
   "source": []
  },
  {
   "cell_type": "markdown",
   "metadata": {},
   "source": [
    "## Submission"
   ]
  },
  {
   "cell_type": "code",
   "execution_count": null,
   "metadata": {},
   "outputs": [],
   "source": []
  }
 ],
 "metadata": {
  "kernelspec": {
   "display_name": "Python 3",
   "language": "python",
   "name": "python3"
  },
  "language_info": {
   "codemirror_mode": {
    "name": "ipython",
    "version": 3
   },
   "file_extension": ".py",
   "mimetype": "text/x-python",
   "name": "python",
   "nbconvert_exporter": "python",
   "pygments_lexer": "ipython3",
   "version": "3.6.8"
  }
 },
 "nbformat": 4,
 "nbformat_minor": 2
}
